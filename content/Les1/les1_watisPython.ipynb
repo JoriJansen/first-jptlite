{
 "cells": [
  {
   "attachments": {},
   "cell_type": "markdown",
   "metadata": {},
   "source": [
    "<h1>Python? Wat is het?</h1>"
   ]
  }
 ],
 "metadata": {
  "kernelspec": {
   "display_name": "Python 3",
   "language": "python",
   "name": "python3"
  },
  "language_info": {
   "name": "python",
   "version": "3.11.1 (tags/v3.11.1:a7a450f, Dec  6 2022, 19:58:39) [MSC v.1934 64 bit (AMD64)]"
  },
  "orig_nbformat": 4,
  "vscode": {
   "interpreter": {
    "hash": "70924ab430a955c596b6df0275fb1529412267145388d3e084bdd773d1bcf969"
   }
  }
 },
 "nbformat": 4,
 "nbformat_minor": 2
}
